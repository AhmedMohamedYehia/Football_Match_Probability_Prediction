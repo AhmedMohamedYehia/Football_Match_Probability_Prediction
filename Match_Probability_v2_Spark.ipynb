{
  "cells": [
    {
      "cell_type": "markdown",
      "metadata": {
        "id": "J4ojQ6OFI4Ow"
      },
      "source": [
        "# Imports"
      ]
    },
    {
      "cell_type": "code",
      "execution_count": null,
      "metadata": {
        "colab": {
          "base_uri": "https://localhost:8080/"
        },
        "id": "kNynWNAwI6an",
        "outputId": "857c90df-5773-4f49-88ed-437673c8e652"
      },
      "outputs": [
        {
          "name": "stdout",
          "output_type": "stream",
          "text": [
            "Collecting category_encoders\n",
            "  Downloading category_encoders-2.4.1-py2.py3-none-any.whl (80 kB)\n",
            "\u001b[?25l\r\u001b[K     |████                            | 10 kB 17.7 MB/s eta 0:00:01\r\u001b[K     |████████                        | 20 kB 10.2 MB/s eta 0:00:01\r\u001b[K     |████████████▏                   | 30 kB 5.5 MB/s eta 0:00:01\r\u001b[K     |████████████████▏               | 40 kB 5.1 MB/s eta 0:00:01\r\u001b[K     |████████████████████▎           | 51 kB 2.3 MB/s eta 0:00:01\r\u001b[K     |████████████████████████▎       | 61 kB 2.6 MB/s eta 0:00:01\r\u001b[K     |████████████████████████████▍   | 71 kB 3.0 MB/s eta 0:00:01\r\u001b[K     |████████████████████████████████| 80 kB 2.0 MB/s \n",
            "\u001b[?25hRequirement already satisfied: numpy>=1.14.0 in /usr/local/lib/python3.7/dist-packages (from category_encoders) (1.21.6)\n",
            "Requirement already satisfied: pandas>=0.21.1 in /usr/local/lib/python3.7/dist-packages (from category_encoders) (1.3.5)\n",
            "Requirement already satisfied: statsmodels>=0.9.0 in /usr/local/lib/python3.7/dist-packages (from category_encoders) (0.10.2)\n",
            "Requirement already satisfied: scipy>=1.0.0 in /usr/local/lib/python3.7/dist-packages (from category_encoders) (1.4.1)\n",
            "Requirement already satisfied: scikit-learn>=0.20.0 in /usr/local/lib/python3.7/dist-packages (from category_encoders) (1.0.2)\n",
            "Requirement already satisfied: patsy>=0.5.1 in /usr/local/lib/python3.7/dist-packages (from category_encoders) (0.5.2)\n",
            "Requirement already satisfied: python-dateutil>=2.7.3 in /usr/local/lib/python3.7/dist-packages (from pandas>=0.21.1->category_encoders) (2.8.2)\n",
            "Requirement already satisfied: pytz>=2017.3 in /usr/local/lib/python3.7/dist-packages (from pandas>=0.21.1->category_encoders) (2022.1)\n",
            "Requirement already satisfied: six in /usr/local/lib/python3.7/dist-packages (from patsy>=0.5.1->category_encoders) (1.15.0)\n",
            "Requirement already satisfied: threadpoolctl>=2.0.0 in /usr/local/lib/python3.7/dist-packages (from scikit-learn>=0.20.0->category_encoders) (3.1.0)\n",
            "Requirement already satisfied: joblib>=0.11 in /usr/local/lib/python3.7/dist-packages (from scikit-learn>=0.20.0->category_encoders) (1.1.0)\n",
            "Installing collected packages: category-encoders\n",
            "Successfully installed category-encoders-2.4.1\n"
          ]
        },
        {
          "name": "stderr",
          "output_type": "stream",
          "text": [
            "/usr/local/lib/python3.7/dist-packages/statsmodels/tools/_testing.py:19: FutureWarning: pandas.util.testing is deprecated. Use the functions in the public API at pandas.testing instead.\n",
            "  import pandas.util.testing as tm\n"
          ]
        },
        {
          "name": "stdout",
          "output_type": "stream",
          "text": [
            "Collecting pyspark\n",
            "  Downloading pyspark-3.2.1.tar.gz (281.4 MB)\n",
            "\u001b[K     |████████████████████████████████| 281.4 MB 34 kB/s \n",
            "\u001b[?25hCollecting py4j==0.10.9.3\n",
            "  Downloading py4j-0.10.9.3-py2.py3-none-any.whl (198 kB)\n",
            "\u001b[K     |████████████████████████████████| 198 kB 55.4 MB/s \n",
            "\u001b[?25hBuilding wheels for collected packages: pyspark\n",
            "  Building wheel for pyspark (setup.py) ... \u001b[?25l\u001b[?25hdone\n",
            "  Created wheel for pyspark: filename=pyspark-3.2.1-py2.py3-none-any.whl size=281853642 sha256=9f4fdd6f3b9a239bdaf4c802a45e3aeb48b2062f2ade9f43c1d7a6875cc39526\n",
            "  Stored in directory: /root/.cache/pip/wheels/9f/f5/07/7cd8017084dce4e93e84e92efd1e1d5334db05f2e83bcef74f\n",
            "Successfully built pyspark\n",
            "Installing collected packages: py4j, pyspark\n",
            "Successfully installed py4j-0.10.9.3 pyspark-3.2.1\n"
          ]
        }
      ],
      "source": [
        "import pandas as pd \n",
        "import cv2\n",
        "import numpy as np\n",
        "from matplotlib import pyplot as plt\n",
        "import regex as re\n",
        "import matplotlib.pyplot as plt\n",
        "import matplotlib.patches as patches\n",
        "from sklearn.model_selection import train_test_split\n",
        "from sklearn.preprocessing import LabelEncoder\n",
        "from datetime import datetime as dt\n",
        "#!pip install category_encoders\n",
        "import category_encoders as ce\n",
        "#!pip install pyspark\n",
        "import pyspark as ps\n",
        "from pyspark.sql.types import IntegerType\n",
        "from pyspark import SparkContext,SparkFiles\n",
        "from pyspark.sql import SQLContext\n",
        "from pyspark.sql import SparkSession\n",
        "from pyspark.sql.functions import *\n",
        "import builtins\n",
        "round = getattr(builtins, \"round\")\n",
        "abs = getattr(builtins, \"abs\")\n",
        "import functools\n",
        "from csv import reader\n",
        "import copy"
      ]
    },
    {
      "cell_type": "markdown",
      "metadata": {
        "id": "vkxFyj77_ajv"
      },
      "source": [
        "# Kaggle API"
      ]
    },
    {
      "cell_type": "code",
      "execution_count": null,
      "metadata": {
        "colab": {
          "base_uri": "https://localhost:8080/",
          "height": 90,
          "resources": {
            "http://localhost:8080/nbextensions/google.colab/files.js": {
              "data": "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",
              "headers": [
                [
                  "content-type",
                  "application/javascript"
                ]
              ],
              "ok": true,
              "status": 200,
              "status_text": ""
            }
          }
        },
        "id": "qrMaxO7M-snu",
        "outputId": "ee11a6e7-dbf3-4e2c-87f5-113c090434af"
      },
      "outputs": [
        {
          "data": {
            "text/html": [
              "\n",
              "     <input type=\"file\" id=\"files-f06f3387-cebd-4961-8bb9-4237205066d1\" name=\"files[]\" multiple disabled\n",
              "        style=\"border:none\" />\n",
              "     <output id=\"result-f06f3387-cebd-4961-8bb9-4237205066d1\">\n",
              "      Upload widget is only available when the cell has been executed in the\n",
              "      current browser session. Please rerun this cell to enable.\n",
              "      </output>\n",
              "      <script src=\"/nbextensions/google.colab/files.js\"></script> "
            ],
            "text/plain": [
              "<IPython.core.display.HTML object>"
            ]
          },
          "metadata": {},
          "output_type": "display_data"
        },
        {
          "name": "stdout",
          "output_type": "stream",
          "text": [
            "Saving kaggle.json to kaggle.json\n",
            "User uploaded file \"kaggle.json\" with length 66 bytes\n"
          ]
        }
      ],
      "source": [
        "from google.colab import files\n",
        "\n",
        "uploaded = files.upload()\n",
        "\n",
        "for fn in uploaded.keys():\n",
        "  print('User uploaded file \"{name}\" with length {length} bytes'.format(\n",
        "      name=fn, length=len(uploaded[fn])))\n",
        "  \n",
        "# Then move kaggle.json into the folder where the API expects to find it.\n",
        "!mkdir -p ~/.kaggle/ && mv kaggle.json ~/.kaggle/ && chmod 600 ~/.kaggle/kaggle.json"
      ]
    },
    {
      "cell_type": "code",
      "execution_count": null,
      "metadata": {
        "colab": {
          "base_uri": "https://localhost:8080/"
        },
        "id": "x2FuDZOakE0J",
        "outputId": "1a1ba54e-2003-4269-b8e8-771286c45117"
      },
      "outputs": [
        {
          "name": "stdout",
          "output_type": "stream",
          "text": [
            "Downloading football-match-probability-prediction.zip to /content\n",
            " 99% 64.0M/64.9M [00:00<00:00, 226MB/s]\n",
            "100% 64.9M/64.9M [00:00<00:00, 218MB/s]\n"
          ]
        }
      ],
      "source": [
        "!kaggle competitions download -c football-match-probability-prediction"
      ]
    },
    {
      "cell_type": "code",
      "execution_count": null,
      "metadata": {
        "colab": {
          "base_uri": "https://localhost:8080/"
        },
        "id": "OOqZH31nkYx9",
        "outputId": "0fd6aaf5-7cb3-400c-d1d4-afde92b3f966"
      },
      "outputs": [
        {
          "name": "stdout",
          "output_type": "stream",
          "text": [
            "Archive:  football-match-probability-prediction.zip\n",
            "  inflating: sample_submission.csv   \n",
            "  inflating: test.csv                \n",
            "  inflating: train.csv               \n",
            "  inflating: train_target_and_scores.csv  \n"
          ]
        }
      ],
      "source": [
        "!unzip football-match-probability-prediction"
      ]
    },
    {
      "cell_type": "markdown",
      "metadata": {
        "id": "wCirWvAz2r3H"
      },
      "source": [
        "# Spark Session"
      ]
    },
    {
      "cell_type": "code",
      "execution_count": null,
      "metadata": {
        "id": "zJYTiMFJ2ysf"
      },
      "outputs": [],
      "source": [
        "spark = SparkSession \\\n",
        "    .builder \\\n",
        "    .appName(\"Football Match Predictions\") \\\n",
        "    .getOrCreate()\n",
        "sc =SparkContext.getOrCreate()"
      ]
    },
    {
      "cell_type": "markdown",
      "metadata": {
        "id": "1BvdUquHB4GP"
      },
      "source": [
        "# Preprocessing"
      ]
    },
    {
      "cell_type": "markdown",
      "metadata": {
        "id": "kvFltiynB68y"
      },
      "source": [
        "## Reading the Data"
      ]
    },
    {
      "cell_type": "code",
      "execution_count": null,
      "metadata": {
        "id": "Wx_WPl0p_4gi"
      },
      "outputs": [],
      "source": [
        "matches_df = pd.read_csv(\"train.csv\", low_memory=False)\n",
        "matches_spark_df = spark.read.csv('train.csv',header=True) \n",
        "matches_test_df = pd.read_csv(\"test.csv\")\n",
        "matches_test_spark_df = spark.read.csv('test.csv',header=True) \n",
        "avg_values={}\n",
        "avg_columns = {}\n",
        "diff_columns={}\n",
        "header=[]"
      ]
    },
    {
      "cell_type": "markdown",
      "metadata": {
        "id": "G9RefnmJqypk"
      },
      "source": [
        "## Historical Columns"
      ]
    },
    {
      "cell_type": "markdown",
      "metadata": {
        "id": "H-W4t9QOuNGh"
      },
      "source": [
        "1-home_team_history_match_date"
      ]
    },
    {
      "cell_type": "code",
      "execution_count": null,
      "metadata": {
        "id": "an79AVRetLdY"
      },
      "outputs": [],
      "source": [
        "home_team_history_match_date = list()\n",
        "for i in range(1,11):\n",
        "  home_team_history_match_date.append(\"home_team_history_match_date_%d\"%i)\n",
        "#matches_df[home_team_history_match_date]  "
      ]
    },
    {
      "cell_type": "markdown",
      "metadata": {
        "id": "AcSiBjKjucR5"
      },
      "source": [
        "2- home_team_history_is_play_home"
      ]
    },
    {
      "cell_type": "code",
      "execution_count": null,
      "metadata": {
        "id": "H4cdFvY7ucR6"
      },
      "outputs": [],
      "source": [
        "home_team_history_is_play_home = list()\n",
        "for i in range(1,11):\n",
        "  home_team_history_is_play_home.append(\"home_team_history_is_play_home_%d\"%i)\n",
        "#matches_df[home_team_history_is_play_home]  "
      ]
    },
    {
      "cell_type": "markdown",
      "metadata": {
        "id": "h_h2y1p4ucs4"
      },
      "source": [
        "3-home_team_history_is_cup"
      ]
    },
    {
      "cell_type": "code",
      "execution_count": null,
      "metadata": {
        "id": "HM-Wzv7Vucs5"
      },
      "outputs": [],
      "source": [
        "home_team_history_is_cup = list()\n",
        "for i in range(1,11):\n",
        "  home_team_history_is_cup.append(\"home_team_history_is_cup_%d\"%i)\n",
        "#matches_df[home_team_history_is_cup]  "
      ]
    },
    {
      "cell_type": "markdown",
      "metadata": {
        "id": "w70gQkzLudM3"
      },
      "source": [
        "4-home_team_history_goal"
      ]
    },
    {
      "cell_type": "code",
      "execution_count": null,
      "metadata": {
        "id": "gmD_X69gudM4"
      },
      "outputs": [],
      "source": [
        "home_team_history_goal = list()\n",
        "for i in range(1,11):\n",
        "  home_team_history_goal.append(\"home_team_history_goal_%d\"%i)\n",
        "#matches_df[home_team_history_goal]  "
      ]
    },
    {
      "cell_type": "markdown",
      "metadata": {
        "id": "g3Ub6obOudWH"
      },
      "source": [
        "5-home_team_history_opponent_goal"
      ]
    },
    {
      "cell_type": "code",
      "execution_count": null,
      "metadata": {
        "id": "3T37UPbxudWI"
      },
      "outputs": [],
      "source": [
        "home_team_history_opponent_goal = list()\n",
        "for i in range(1,11):\n",
        "  home_team_history_opponent_goal.append(\"home_team_history_opponent_goal_%d\"%i)\n",
        "#matches_df[home_team_history_opponent_goal]  "
      ]
    },
    {
      "cell_type": "markdown",
      "metadata": {
        "id": "MtrYCZo6uddb"
      },
      "source": [
        "6-home_team_history_rating"
      ]
    },
    {
      "cell_type": "code",
      "execution_count": null,
      "metadata": {
        "id": "PUJxg7gBuddc"
      },
      "outputs": [],
      "source": [
        "home_team_history_rating = list()\n",
        "for i in range(1,11):\n",
        "  home_team_history_rating.append(\"home_team_history_rating_%d\"%i)\n",
        "#matches_df[home_team_history_rating]  "
      ]
    },
    {
      "cell_type": "markdown",
      "metadata": {
        "id": "X86g4qM8udlm"
      },
      "source": [
        "7-home_team_history_opponent_rating"
      ]
    },
    {
      "cell_type": "code",
      "execution_count": null,
      "metadata": {
        "id": "dd7U5JLxudln"
      },
      "outputs": [],
      "source": [
        "home_team_history_opponent_rating = list()\n",
        "for i in range(1,11):\n",
        "  home_team_history_opponent_rating.append(\"home_team_history_opponent_rating_%d\"%i)\n",
        "#matches_df[home_team_history_opponent_rating]  "
      ]
    },
    {
      "cell_type": "markdown",
      "metadata": {
        "id": "AcBXAnloudsw"
      },
      "source": [
        "8-home_team_history_coach"
      ]
    },
    {
      "cell_type": "code",
      "execution_count": null,
      "metadata": {
        "id": "ejboRTxsudsx"
      },
      "outputs": [],
      "source": [
        "home_team_history_coach = list()\n",
        "for i in range(1,11):\n",
        "  home_team_history_coach.append(\"home_team_history_coach_%d\"%i)\n",
        "#matches_df[home_team_history_coach]  "
      ]
    },
    {
      "cell_type": "markdown",
      "metadata": {
        "id": "ncwlCyAGudwd"
      },
      "source": [
        "9-home_team_history_league_id"
      ]
    },
    {
      "cell_type": "code",
      "execution_count": null,
      "metadata": {
        "id": "lCRby7V5udwe"
      },
      "outputs": [],
      "source": [
        "home_team_history_league_id = list()\n",
        "for i in range(1,11):\n",
        "  home_team_history_league_id.append(\"home_team_history_league_id_%d\"%i)\n",
        "#matches_df[home_team_history_league_id]  "
      ]
    },
    {
      "cell_type": "markdown",
      "metadata": {
        "id": "rpwVYIxuudz-"
      },
      "source": [
        "10-away_team_history_match_date"
      ]
    },
    {
      "cell_type": "code",
      "execution_count": null,
      "metadata": {
        "id": "vd5OJlwFud0B"
      },
      "outputs": [],
      "source": [
        "away_team_history_match_date = list()\n",
        "for i in range(1,11):\n",
        "  away_team_history_match_date.append(\"away_team_history_match_date_%d\"%i)\n",
        "#matches_df[away_team_history_match_date]  "
      ]
    },
    {
      "cell_type": "markdown",
      "metadata": {
        "id": "71exLKWkud6Y"
      },
      "source": [
        "11-away_team_history_is_play_home"
      ]
    },
    {
      "cell_type": "code",
      "execution_count": null,
      "metadata": {
        "id": "h0FtmFRyud6Z"
      },
      "outputs": [],
      "source": [
        "away_team_history_is_play_home = list()\n",
        "for i in range(1,11):\n",
        "  away_team_history_is_play_home.append(\"away_team_history_is_play_home_%d\"%i)\n",
        "#matches_df[away_team_history_is_play_home]  "
      ]
    },
    {
      "cell_type": "markdown",
      "metadata": {
        "id": "mGDDOALNud-I"
      },
      "source": [
        "12-away_team_history_is_cup"
      ]
    },
    {
      "cell_type": "code",
      "execution_count": null,
      "metadata": {
        "id": "7IuZdyYYud-J"
      },
      "outputs": [],
      "source": [
        "away_team_history_is_cup = list()\n",
        "for i in range(1,11):\n",
        "  away_team_history_is_cup.append(\"away_team_history_is_cup_%d\"%i)\n",
        "#matches_df[away_team_history_is_cup]  "
      ]
    },
    {
      "cell_type": "markdown",
      "metadata": {
        "id": "WReC35JPueHy"
      },
      "source": [
        "13-away_team_history_goal"
      ]
    },
    {
      "cell_type": "code",
      "execution_count": null,
      "metadata": {
        "id": "Ws1EgOPLueHz"
      },
      "outputs": [],
      "source": [
        "away_team_history_goal = list()\n",
        "for i in range(1,11):\n",
        "  away_team_history_goal.append(\"away_team_history_goal_%d\"%i)\n",
        "#matches_df[away_team_history_goal]  "
      ]
    },
    {
      "cell_type": "markdown",
      "metadata": {
        "id": "_J0auTwrueNd"
      },
      "source": [
        "14-away_team_history_opponent_goal"
      ]
    },
    {
      "cell_type": "code",
      "execution_count": null,
      "metadata": {
        "id": "y3hrwHy0ueNd"
      },
      "outputs": [],
      "source": [
        "away_team_history_opponent_goal = list()\n",
        "for i in range(1,11):\n",
        "  away_team_history_opponent_goal.append(\"away_team_history_opponent_goal_%d\"%i)\n",
        "#matches_df[away_team_history_opponent_goal]  "
      ]
    },
    {
      "cell_type": "markdown",
      "metadata": {
        "id": "43mzD_tUueTo"
      },
      "source": [
        "15-away_team_history_rating"
      ]
    },
    {
      "cell_type": "code",
      "execution_count": null,
      "metadata": {
        "id": "d9mbyDw6ueTp"
      },
      "outputs": [],
      "source": [
        "away_team_history_rating = list()\n",
        "for i in range(1,11):\n",
        "  away_team_history_rating.append(\"away_team_history_rating_%d\"%i)\n",
        "#matches_df[away_team_history_rating]  "
      ]
    },
    {
      "cell_type": "markdown",
      "metadata": {
        "id": "M3eMihN1ueZC"
      },
      "source": [
        "16-away_team_history_opponent_rating"
      ]
    },
    {
      "cell_type": "code",
      "execution_count": null,
      "metadata": {
        "id": "iQr93s6sueZD"
      },
      "outputs": [],
      "source": [
        "away_team_history_opponent_rating = list()\n",
        "for i in range(1,11):\n",
        "  away_team_history_opponent_rating.append(\"away_team_history_opponent_rating_%d\"%i)\n",
        "#matches_df[away_team_history_opponent_rating]  "
      ]
    },
    {
      "cell_type": "markdown",
      "metadata": {
        "id": "y86eIOz1uefW"
      },
      "source": [
        "17-away_team_history_coach"
      ]
    },
    {
      "cell_type": "code",
      "execution_count": null,
      "metadata": {
        "id": "6OtbySFCuefW"
      },
      "outputs": [],
      "source": [
        "away_team_history_coach = list()\n",
        "for i in range(1,11):\n",
        "  away_team_history_coach.append(\"away_team_history_coach_%d\"%i)\n",
        "#matches_df[away_team_history_coach]  "
      ]
    },
    {
      "cell_type": "markdown",
      "metadata": {
        "id": "pPf9NyG8wr0f"
      },
      "source": [
        "18-away_team_history_league_id"
      ]
    },
    {
      "cell_type": "code",
      "execution_count": null,
      "metadata": {
        "id": "da-3SiZspuLS"
      },
      "outputs": [],
      "source": [
        "away_team_history_league_id = list()\n",
        "for i in range(1,11):\n",
        "  away_team_history_league_id.append(\"away_team_history_league_id_%d\"%i)\n",
        "#matches_df[away_team_history_league_id]  "
      ]
    },
    {
      "cell_type": "markdown",
      "metadata": {
        "id": "jj75xK_JvsFZ"
      },
      "source": [
        "## NAN Values"
      ]
    },
    {
      "cell_type": "code",
      "execution_count": null,
      "metadata": {
        "id": "KOTpSdDYElqH"
      },
      "outputs": [],
      "source": [
        "def remove_NAN(input_df, train = True,mode=\"MaxAvg\"):\n",
        "\n",
        "  output_df = input_df\n",
        "  if mode==\"MaxAvg\":\n",
        "    columns = list()\n",
        "    columns_hist_goals=list()\n",
        "    columns_hist_ratings=list()\n",
        "    columns_match_date=list()\n",
        "    columns_match_date=['match_date']\n",
        "    columns = ['home_team_name', 'away_team_name',  'league_name', 'league_id', 'home_team_coach_id', 'away_team_coach_id', 'is_cup']\n",
        "    if train == True:\n",
        "      columns.extend(['target'])   \n",
        "\n",
        "    # History Match Dates\n",
        "    columns_match_date.extend(home_team_history_match_date)\n",
        "    columns_match_date.extend(away_team_history_match_date)\n",
        "\n",
        "    # History is Play Home\n",
        "    columns.extend(home_team_history_is_play_home)\n",
        "    columns.extend(away_team_history_is_play_home)\n",
        "    # History is cup\n",
        "    columns.extend(home_team_history_is_cup)\n",
        "    columns.extend(away_team_history_is_cup)\n",
        "\n",
        "    # History Goal\n",
        "    columns_hist_goals.extend(home_team_history_goal)\n",
        "    columns_hist_goals.extend(away_team_history_goal)\n",
        "    # History Opponent Goal\n",
        "    columns_hist_goals.extend(home_team_history_opponent_goal)\n",
        "    columns_hist_goals.extend(away_team_history_opponent_goal)\n",
        "\n",
        "    # History Rating\n",
        "    columns_hist_ratings.extend(home_team_history_rating)\n",
        "    columns_hist_ratings.extend(away_team_history_rating)\n",
        "    # History Opponent Rating\n",
        "    columns_hist_ratings.extend(home_team_history_opponent_rating)\n",
        "    columns_hist_ratings.extend(away_team_history_opponent_rating)\n",
        "\n",
        "    # History Coach\n",
        "    columns.extend(home_team_history_coach)\n",
        "    columns.extend(away_team_history_coach)\n",
        "    # History League ID\n",
        "    columns.extend(home_team_history_league_id)\n",
        "    columns.extend(away_team_history_league_id)\n",
        "\n",
        "    if train == True:\n",
        "      for col in columns_hist_goals:\n",
        "          avgC=output_df.select(avg(col)).collect()\n",
        "          avg_values[col]=str(round(avgC[0][0]))\n",
        "          output_df=output_df.fillna(str(round(avgC[0][0])),subset=col)\n",
        "          \n",
        "      for col in columns_hist_ratings:    \n",
        "          avgC=output_df.select(avg(col)).collect()\n",
        "          avg_values[col]=str(avgC[0][0])\n",
        "          output_df=output_df.fillna(str(avgC[0][0]),subset=col)\n",
        "          \n",
        "      for col in columns_match_date:\n",
        "          avgD=output_df.select(avg(to_timestamp(col)).cast(\"timestamp\")).collect()\n",
        "          avgDnew=str(avgD[0][0]).split('.')\n",
        "          avg_values[col]=avgDnew[0]\n",
        "          output_df=output_df.fillna(avgDnew[0],subset=col)\n",
        "        \n",
        "      for col in columns:\n",
        "          mode=output_df.groupby(col).count().orderBy(\"count\", ascending=False).head(2)\n",
        "          if str(mode[0][0])==\"None\":\n",
        "            avg_values[col]=str(mode[1][0])\n",
        "            output_df=output_df.fillna(str(mode[1][0]),subset=col)\n",
        "          else:  \n",
        "            avg_values[col]=str(mode[0][0])\n",
        "            output_df=output_df.fillna(str(mode[0][0]),subset=col)\n",
        "    else:\n",
        "      for col in columns_hist_goals:\n",
        "        avgC=avg_values[col]\n",
        "        output_df=output_df.fillna(avgC,subset=col)\n",
        "      \n",
        "      for col in columns_hist_ratings:    \n",
        "        avgC=avg_values[col]\n",
        "        output_df=output_df.fillna(avgC,subset=col)\n",
        "      \n",
        "      for col in columns_match_date:\n",
        "        avgD=avg_values[col]\n",
        "        output_df=output_df.fillna(avgD,subset=col)\n",
        "    \n",
        "      for col in columns:\n",
        "        mode=avg_values[col]\n",
        "        output_df=output_df.fillna(mode,subset=col)\n",
        "\n",
        "  elif mode==\"0\":\n",
        "    output_df=output_df.fillna(0)\n",
        "  else:\n",
        "    output_df=output_df.dropna(how=\"any\")\n",
        "\n",
        "  return output_df\n"
      ]
    },
    {
      "cell_type": "markdown",
      "metadata": {
        "id": "PRKwuYjqV9A2"
      },
      "source": [
        "## Removing Outliers"
      ]
    },
    {
      "cell_type": "code",
      "execution_count": null,
      "metadata": {
        "id": "DOKh1em3V-lJ"
      },
      "outputs": [],
      "source": [
        "def remove_outliers(input_df):\n",
        "  output_df = input_df.copy()\n",
        "  return output_df"
      ]
    },
    {
      "cell_type": "code",
      "execution_count": null,
      "metadata": {
        "id": "zqZW2sryIcFL"
      },
      "outputs": [],
      "source": [
        "def remove_outliers_spark(input_df,mode=\"remove\"):\n",
        "  \n",
        "  columns=list()\n",
        "  columns2=list()\n",
        "  # History Rating\n",
        "  columns.extend(home_team_history_rating)\n",
        "  columns.extend(away_team_history_rating)\n",
        "  # History Opponent Rating\n",
        "  columns.extend(home_team_history_opponent_rating)\n",
        "  columns.extend(away_team_history_opponent_rating)\n",
        "\n",
        "  # History Goal\n",
        "  columns2.extend(home_team_history_goal)\n",
        "  columns2.extend(away_team_history_goal)\n",
        "\n",
        "  # History Opponent Goal\n",
        "  columns2.extend(home_team_history_opponent_goal)\n",
        "  columns2.extend(away_team_history_opponent_goal)\n",
        "  if mode==\"remove\":\n",
        "    for col in columns:\n",
        "      input_df=input_df.filter(input_df[col]<=11)\n",
        "    for col in columns2:\n",
        "      input_df=input_df.filter(input_df[col]<=5)\n",
        "  else:\n",
        "    for col in columns:\n",
        "      input_df = input_df.withColumn(col, when(input_df[col].cast(IntegerType()) >= 11,str(11.0)).otherwise(input_df[col]))\n",
        "    for col in columns2:\n",
        "      input_df = input_df.withColumn(col, when(input_df[col].cast(IntegerType()) >= 5,str(5.0)).otherwise(input_df[col]))\n",
        "      \n",
        "  return input_df"
      ]
    },
    {
      "cell_type": "markdown",
      "metadata": {
        "id": "NPft4qd1SsZt"
      },
      "source": [
        "# Feature Engineering - Using MapReduce"
      ]
    },
    {
      "cell_type": "markdown",
      "metadata": {
        "id": "9PA5WcmKQ5Zj"
      },
      "source": [
        "## Calculating Columns Differences in Map function"
      ]
    },
    {
      "cell_type": "code",
      "execution_count": null,
      "metadata": {
        "id": "IHo8KHNtQ1_G"
      },
      "outputs": [],
      "source": [
        "def Diff_map(data):\n",
        "    result=(data[header.index(\"id\")],{})\n",
        "    for i in range(1,11):\n",
        "      result[1]['home_team_history_goal_difference_'+str(i)] = float(data[header.index('home_team_history_goal_'+str(i))])-float(data[header.index('home_team_history_opponent_goal_'+str(i))])\n",
        "      result[1]['away_team_history_goal_difference_'+str(i)] = float(data[header.index('away_team_history_goal_'+str(i))])-float(data[header.index('away_team_history_opponent_goal_'+str(i))])\n",
        "      result[1]['home_team_history_rating_difference_'+str(i)] = float(data[header.index('home_team_history_rating_'+str(i))])-float(data[header.index('home_team_history_opponent_rating_'+str(i))])\n",
        "      result[1]['away_team_history_rating_difference_'+str(i)] = float(data[header.index('away_team_history_rating_'+str(i))])-float(data[header.index('away_team_history_opponent_rating_'+str(i))])\n",
        "      result[1]['home_team_history_date_difference_'+str(i)] = abs(int((dt.strptime(data[header.index('match_date')].split(' ')[0], \"%Y-%m-%d\") - dt.strptime(data[header.index('home_team_history_match_date_'+str(i))].split(' ')[0], \"%Y-%m-%d\")).days))  \n",
        "      result[1]['away_team_history_date_difference_'+str(i)] = abs(int((dt.strptime(data[header.index('match_date')].split(' ')[0], \"%Y-%m-%d\") - dt.strptime(data[header.index('away_team_history_match_date_'+str(i))].split(' ')[0], \"%Y-%m-%d\")).days))  \n",
        "    \n",
        "    return result"
      ]
    },
    {
      "cell_type": "markdown",
      "metadata": {
        "id": "82FcALOgRFbJ"
      },
      "source": [
        "## Returning Columns Differences in Reduce function"
      ]
    },
    {
      "cell_type": "code",
      "execution_count": null,
      "metadata": {
        "id": "b9rK06u0RSuA"
      },
      "outputs": [],
      "source": [
        "def diff_reduce(x,y):\n",
        "  columns=y[1]\n",
        "  temp_dict={}\n",
        "  for i in range(1,11):\n",
        "      temp_dict['home_team_history_goal_difference_'+str(i)] = columns['home_team_history_goal_difference_'+str(i)]\n",
        "      temp_dict['away_team_history_goal_difference_'+str(i)] = columns['away_team_history_goal_difference_'+str(i)]\n",
        "      temp_dict['home_team_history_rating_difference_'+str(i)] = columns['home_team_history_rating_difference_'+str(i)]\n",
        "      temp_dict['away_team_history_rating_difference_'+str(i)] = columns['away_team_history_rating_difference_'+str(i)]\n",
        "      temp_dict['home_team_history_date_difference_'+str(i)] = columns['home_team_history_date_difference_'+str(i)]\n",
        "      temp_dict['away_team_history_date_difference_'+str(i)] = columns['away_team_history_date_difference_'+str(i)]\n",
        "  diff_columns[y[0]]=temp_dict\n",
        "           \n",
        "  return diff_columns "
      ]
    },
    {
      "cell_type": "markdown",
      "metadata": {
        "id": "npajXZAERt9v"
      },
      "source": [
        "## Calculating Columns Avg in Reduce function"
      ]
    },
    {
      "cell_type": "code",
      "execution_count": null,
      "metadata": {
        "id": "o6Lhs9XpR2yZ"
      },
      "outputs": [],
      "source": [
        "def avg_reduce(x,y):\n",
        "  columns=y[1]\n",
        "\n",
        "  home_team_history_goal_avg = round((float(columns[\"home_team_history_goal_difference_1\"])+float(columns[\"home_team_history_goal_difference_2\"])\n",
        "  +float(columns[\"home_team_history_goal_difference_3\"])+float(columns[\"home_team_history_goal_difference_4\"])+float(columns[\"home_team_history_goal_difference_5\"])\n",
        "  +float(columns[\"home_team_history_goal_difference_6\"])+float(columns[\"home_team_history_goal_difference_7\"])+float(columns[\"home_team_history_goal_difference_8\"])\n",
        "  +float(columns[\"home_team_history_goal_difference_9\"])+float(columns[\"home_team_history_goal_difference_10\"]))/10)\n",
        "  \n",
        "  away_team_history_goal_avg = round((float(columns[\"away_team_history_goal_difference_1\"])+float(columns[\"away_team_history_goal_difference_2\"])\n",
        "  +float(columns[\"away_team_history_goal_difference_3\"])+float(columns[\"away_team_history_goal_difference_4\"])+float(columns[\"away_team_history_goal_difference_5\"])\n",
        "  +float(columns[\"away_team_history_goal_difference_6\"])+float(columns[\"away_team_history_goal_difference_7\"])+float(columns[\"away_team_history_goal_difference_8\"])\n",
        "  +float(columns[\"away_team_history_goal_difference_9\"])+float(columns[\"away_team_history_goal_difference_10\"]))/10)\n",
        "\n",
        "  home_team_history_rating_avg = (float(columns[\"home_team_history_rating_difference_1\"])+float(columns[\"home_team_history_rating_difference_2\"])\n",
        "  +float(columns[\"home_team_history_rating_difference_3\"])+float(columns[\"home_team_history_rating_difference_4\"])+float(columns[\"home_team_history_rating_difference_5\"])\n",
        "  +float(columns[\"home_team_history_rating_difference_6\"])+float(columns[\"home_team_history_rating_difference_7\"])+float(columns[\"home_team_history_rating_difference_8\"])\n",
        "  +float(columns[\"home_team_history_rating_difference_9\"])+float(columns[\"home_team_history_rating_difference_10\"]))/10\n",
        "\n",
        "  away_team_history_rating_avg = (float(columns[\"away_team_history_rating_difference_1\"])+float(columns[\"away_team_history_rating_difference_2\"])\n",
        "  +float(columns[\"away_team_history_rating_difference_3\"])+float(columns[\"away_team_history_rating_difference_4\"])+float(columns[\"away_team_history_rating_difference_5\"])\n",
        "  +float(columns[\"away_team_history_rating_difference_6\"])+float(columns[\"away_team_history_rating_difference_7\"])+float(columns[\"away_team_history_rating_difference_8\"])\n",
        "  +float(columns[\"away_team_history_rating_difference_9\"])+float(columns[\"away_team_history_rating_difference_10\"]))/10\n",
        "  avg_columns[y[0]]={\n",
        "          \"home_team_history_goal_avg\":home_team_history_goal_avg,\n",
        "           \"away_team_history_goal_avg\":away_team_history_goal_avg,\n",
        "           \"home_team_history_rating_avg\":home_team_history_rating_avg,\n",
        "           \"away_team_history_rating_avg\":away_team_history_rating_avg\n",
        "           }\n",
        "  \n",
        "  \n",
        "  return avg_columns"
      ]
    },
    {
      "cell_type": "markdown",
      "metadata": {
        "id": "93a9j0rLPlLO"
      },
      "source": [
        "## Adding the New Features"
      ]
    },
    {
      "cell_type": "code",
      "execution_count": null,
      "metadata": {
        "id": "fTeBJZgMPMTC"
      },
      "outputs": [],
      "source": [
        "\n",
        "def add_features(output_df,filePath='train_preprocessed.csv'):\n",
        "\n",
        "  avg_result=[]\n",
        "  diff_result=[]\n",
        "  global header \n",
        "  with open(filePath, 'r', encoding=\"utf8\") as read_obj:\n",
        "    csv_reader = reader(read_obj)\n",
        "    header = next(csv_reader) \n",
        "    if header != None: \n",
        "      avg_result=functools.reduce(avg_reduce, map(Diff_map, csv_reader))\n",
        "\n",
        "  with open(filePath, 'r', encoding=\"utf8\") as read_obj:\n",
        "    csv_reader = reader(read_obj)\n",
        "    \n",
        "    header = next(csv_reader)\n",
        "    if header != None: \n",
        "      diff_result=functools.reduce(diff_reduce, map(Diff_map, csv_reader))\n",
        "     \n",
        "  diff_results_df=pd.DataFrame.from_dict(diff_result,orient='index')\n",
        "  diff_results_df['id'] = diff_results_df.index\n",
        "  diff_results_df['id']=diff_results_df['id'].astype(int)\n",
        "\n",
        "  avg_results_df=pd.DataFrame.from_dict(avg_result,orient='index')\n",
        "  avg_results_df['id'] = avg_results_df.index\n",
        "  avg_results_df['id']=avg_results_df['id'].astype(int)\n",
        "\n",
        "  output_df= pd.merge(left=output_df, right=diff_results_df, how='outer', on=\"id\")\n",
        "  output_df= pd.merge(left=output_df, right=avg_results_df, how='outer', on=\"id\")\n",
        "  output_df.dropna(axis=0,how=\"any\",inplace=True)\n",
        "\n",
        "  return output_df\n"
      ]
    },
    {
      "cell_type": "markdown",
      "metadata": {
        "id": "FBsbHIDXV6u6"
      },
      "source": [
        "# Normalization"
      ]
    },
    {
      "cell_type": "code",
      "execution_count": null,
      "metadata": {
        "id": "GVnFIps5V8My"
      },
      "outputs": [],
      "source": [
        "def normalize_columns(input_df, train = True):\n",
        "  output_df = input_df.copy()\n",
        "\n",
        "  normalized_columns = list()\n",
        "\n",
        "  for column in output_df.columns:\n",
        "    if column in normalized_columns:\n",
        "      output_df[column] = (output_df[column] - output_df[column].min()) / (output_df[column].max() - output_df[column].min())\t\n",
        "\n",
        "  return output_df"
      ]
    },
    {
      "cell_type": "code",
      "execution_count": null,
      "metadata": {
        "id": "ij4wbUjpT00R"
      },
      "outputs": [],
      "source": [
        "def normalize_spark_columns(input_df, train = True):\n",
        "  output_df = input_df.copy()\n",
        "\n",
        "  normalized_columns = list()\n",
        "  # New Features Columns\n",
        "  normalized_columns=[\"home_team_history_goal_avg\",\"away_team_history_goal_avg\",\"home_team_history_rating_avg\",\"away_team_history_rating_avg\"]\n",
        "  for i in range(1,11):\n",
        "      normalized_columns.extend(['home_team_history_goal_difference_'+str(i)])\n",
        "      normalized_columns.extend(['away_team_history_goal_difference_'+str(i)])\n",
        "      normalized_columns.extend(['home_team_history_rating_difference_'+str(i)])\n",
        "      normalized_columns.extend(['away_team_history_rating_difference_'+str(i)])\n",
        "  # History Rating\n",
        "  normalized_columns.extend(home_team_history_rating)\n",
        "  normalized_columns.extend(away_team_history_rating)\n",
        "\n",
        "  # History Opponent Rating\n",
        "  normalized_columns.extend(home_team_history_opponent_rating)\n",
        "  normalized_columns.extend(away_team_history_opponent_rating)\n",
        "\n",
        "  # History Goal\n",
        "  normalized_columns.extend(home_team_history_goal)\n",
        "  normalized_columns.extend(away_team_history_goal)\n",
        "\n",
        "  # History Opponent Goal\n",
        "  normalized_columns.extend(home_team_history_opponent_goal)\n",
        "  normalized_columns.extend(away_team_history_opponent_goal)\n",
        "\n",
        "  \n",
        "  for column in output_df.columns:\n",
        "    if column in normalized_columns:\n",
        "      output_df[column] = (output_df[column] - output_df[column].min()) / (output_df[column].max() - output_df[column].min())\t\n",
        "\n",
        "  return output_df"
      ]
    },
    {
      "cell_type": "markdown",
      "metadata": {
        "id": "S1jpmwGWV_It"
      },
      "source": [
        "# Encoding"
      ]
    },
    {
      "cell_type": "code",
      "execution_count": null,
      "metadata": {
        "id": "ypplSs3rWB4c"
      },
      "outputs": [],
      "source": [
        "def categorical_encoding(input_df, train = True):\n",
        "  output_df = input_df.copy()\n",
        "\n",
        "  categorical_columns = []\n",
        "\n",
        "  if train:\n",
        "    target_enc = pd.get_dummies(output_df.target)\n",
        "    output_df = output_df.join(target_enc)\n",
        "\n",
        "    le = LabelEncoder()\n",
        "    label = le.fit_transform(output_df['target'])\n",
        "    output_df['target'] = label\n",
        "  else:\n",
        "    pass  \n",
        "\n",
        "  for column in output_df.columns:\n",
        "    if column in categorical_columns:\n",
        "      current_column = pd.get_dummies(output_df[column], prefix=column)\n",
        "      output_df = output_df.join(current_column)\n",
        "\n",
        "\n",
        "  return output_df  "
      ]
    },
    {
      "cell_type": "code",
      "execution_count": null,
      "metadata": {
        "id": "5r5aSHVSw8I6"
      },
      "outputs": [],
      "source": [
        "def categorical_spark_encoding(input_df, train = True):\n",
        "  output_df = input_df.copy()\n",
        "  categorical_columns=list()\n",
        "  categorical_columns=[\"is_cup\"]\n",
        "  \n",
        "  if train:\n",
        "    le = LabelEncoder()\n",
        "    label = le.fit_transform(output_df['target'])\n",
        "    output_df['target'] = label\n",
        "\n",
        "  categorical_columns.extend(home_team_history_is_play_home)\n",
        "  categorical_columns.extend(home_team_history_is_cup)\n",
        "  #categorical_columns.extend(home_team_history_coach)\n",
        "  categorical_columns.extend(away_team_history_is_play_home)\n",
        "  categorical_columns.extend(away_team_history_is_cup)\n",
        "  #categorical_columns.extend(away_team_history_coach)\n",
        "\n",
        "\n",
        "  encoder = ce.BinaryEncoder(cols=categorical_columns)\n",
        "  output_df = encoder.fit_transform(output_df)\n",
        "\n",
        "  return output_df  "
      ]
    },
    {
      "cell_type": "markdown",
      "metadata": {
        "id": "8bKjnn00WlkE"
      },
      "source": [
        "# Drop Columns"
      ]
    },
    {
      "cell_type": "code",
      "execution_count": null,
      "metadata": {
        "id": "f1sW0YqbLaF8"
      },
      "outputs": [],
      "source": [
        "def drop_columns(input_df, train = True):\n",
        "\n",
        "  output_df = input_df\n",
        "\n",
        "  columns = list()\n",
        "  columns = ['home_team_name', 'away_team_name', 'league_id', 'league_name', 'match_date', 'home_team_coach_id', 'away_team_coach_id']  \n",
        "\n",
        "  # History Match Date\n",
        "  columns.extend(home_team_history_match_date)\n",
        "  columns.extend(away_team_history_match_date)\n",
        "\n",
        "  # History Coach\n",
        "  columns.extend(home_team_history_coach)\n",
        "  columns.extend(away_team_history_coach)\n",
        "\n",
        "  # History League ID\n",
        "  columns.extend(home_team_history_league_id)\n",
        "  columns.extend(away_team_history_league_id)\n",
        "\n",
        "  # History is Play Home\n",
        "  # columns.extend(home_team_history_is_play_home)\n",
        "  # columns.extend(away_team_history_is_play_home)\n",
        "\n",
        "  # History Rating\n",
        "  # columns.extend(home_team_history_rating)\n",
        "  # columns.extend(away_team_history_rating)\n",
        "\n",
        "  # History Opponent Rating\n",
        "  # columns.extend(home_team_history_opponent_rating)\n",
        "  # columns.extend(away_team_history_opponent_rating)\n",
        "\n",
        "  # History Goal\n",
        "  # columns.extend(home_team_history_goal)\n",
        "  # columns.extend(away_team_history_goal)\n",
        "\n",
        "  # History Opponent Goal\n",
        "  # columns.extend(home_team_history_opponent_goal)\n",
        "  # columns.extend(away_team_history_opponent_goal)\n",
        "\n",
        "  # History is Cup\n",
        "  # columns.extend(home_team_history_is_cup)\n",
        "  # columns.extend(away_team_history_is_cup)\n",
        "\n",
        "\n",
        "  for column in columns:\n",
        "    output_df.drop(column, axis=1, inplace=True)\n",
        "  # output_df=input_df.drop(*columns)\n",
        " \n",
        "  return output_df"
      ]
    },
    {
      "cell_type": "markdown",
      "metadata": {
        "id": "Y_sTYoCxJoOI"
      },
      "source": [
        "# Pipeline"
      ]
    },
    {
      "cell_type": "code",
      "execution_count": null,
      "metadata": {
        "id": "d-0DgVezJpUj"
      },
      "outputs": [],
      "source": [
        "def pipeline(input_df, train = True):\n",
        "  output_df = input_df.copy()\n",
        "  # Removing null values and NANs\n",
        "  output_df = remove_NAN(output_df, train)\n",
        "  # Changing the type from String to Date in Date columns\n",
        "  #output_df = handle_dates(output_df)\n",
        "\n",
        "\n",
        "  # Feature Engineereing\n",
        "  output_df = add_features(output_df)\n",
        "  # print(output_df['match_date_time'])\n",
        "\n",
        "  # Normalization\n",
        "  output_df =  normalize_columns(output_df)\n",
        "\n",
        "  # Remove Outlier (Numerical Data)\n",
        "  output_df = remove_outliers(output_df)\n",
        "\n",
        "  # Encoding (Categorical Data)\n",
        "  output_df = categorical_encoding(output_df, train)\n",
        "\n",
        "  # Last step: Drop Irrelevant Columns\n",
        "  output_df = drop_columns(output_df, train)\n",
        " \n",
        "\n",
        "  return output_df"
      ]
    },
    {
      "cell_type": "code",
      "execution_count": null,
      "metadata": {
        "id": "f-aDblygsZI9"
      },
      "outputs": [],
      "source": [
        "def spark_pipeline(input_df, train = True, mode=\"MaxAvg\"):\n",
        "  output_df = input_df\n",
        "  # Removing null values and NANs\n",
        "  output_df=remove_NAN(output_df, train, mode) \n",
        "  # Remove Outlier (Numerical Data)\n",
        "  output_df = remove_outliers_spark(output_df,mode=\"fill\") \n",
        "\n",
        "  # Intermediate Step for map reduce\n",
        "  output_pandas = output_df.toPandas()\n",
        "  output_pandas.to_csv('train_preprocessed.csv')\n",
        "\n",
        "  # Feature Engineereing\n",
        "  df_processed=pd.read_csv('train_preprocessed.csv')  \n",
        "  df_processed['id']=df_processed['id'].astype(int)\n",
        "  output_df=add_features(df_processed,filePath='train_preprocessed.csv')\n",
        "  \n",
        "  # Normalization\n",
        "  output_df =  normalize_spark_columns(output_df)\n",
        "\n",
        "  # Encoding (Categorical Data)\n",
        "  output_df = categorical_spark_encoding(output_df, train) #468 columns\n",
        "\n",
        "  # Last step: Drop Irrelevant Columns\n",
        "  output_df = drop_columns(output_df, train)\n",
        "  output_df.drop(\"Unnamed: 0\", axis=1, inplace=True)\n",
        "\n",
        "  return output_df"
      ]
    },
    {
      "cell_type": "markdown",
      "metadata": {
        "id": "WEMblgBBJzrC"
      },
      "source": [
        "# Main"
      ]
    },
    {
      "cell_type": "markdown",
      "metadata": {
        "id": "Aa8DmujkUa3s"
      },
      "source": [
        "## Train"
      ]
    },
    {
      "cell_type": "code",
      "execution_count": null,
      "metadata": {
        "colab": {
          "base_uri": "https://localhost:8080/"
        },
        "id": "TTn2piUa2h1b",
        "outputId": "c186e501-ff54-43f3-9720-272adc7d8f61"
      },
      "outputs": [
        {
          "name": "stderr",
          "output_type": "stream",
          "text": [
            "/usr/local/lib/python3.7/dist-packages/pyspark/sql/pandas/conversion.py:202: PerformanceWarning: DataFrame is highly fragmented.  This is usually the result of calling `frame.insert` many times, which has poor performance.  Consider joining all columns at once using pd.concat(axis=1) instead.  To get a de-fragmented frame, use `newframe = frame.copy()`\n",
            "  df[column_name] = series\n"
          ]
        }
      ],
      "source": [
        "train_spark_df = spark_pipeline(matches_spark_df)"
      ]
    },
    {
      "cell_type": "code",
      "execution_count": null,
      "metadata": {
        "colab": {
          "base_uri": "https://localhost:8080/"
        },
        "id": "ie5vsqxxR6qD",
        "outputId": "5e464003-002b-4dea-d1e6-43fa216fb76d"
      },
      "outputs": [
        {
          "name": "stdout",
          "output_type": "stream",
          "text": [
            "110937\n"
          ]
        }
      ],
      "source": [
        "print(len(train_spark_df))\n",
        "train_spark_df.to_pickle(\"train.pkl\")"
      ]
    },
    {
      "cell_type": "markdown",
      "metadata": {
        "id": "2G_slk3TUch7"
      },
      "source": [
        "## Test"
      ]
    },
    {
      "cell_type": "code",
      "execution_count": null,
      "metadata": {
        "colab": {
          "base_uri": "https://localhost:8080/"
        },
        "id": "Ip2fV4hPUZAS",
        "outputId": "c8a0352c-270a-41ba-82c4-f8d0d6049a6d"
      },
      "outputs": [
        {
          "name": "stderr",
          "output_type": "stream",
          "text": [
            "/usr/local/lib/python3.7/dist-packages/pyspark/sql/pandas/conversion.py:202: PerformanceWarning: DataFrame is highly fragmented.  This is usually the result of calling `frame.insert` many times, which has poor performance.  Consider joining all columns at once using pd.concat(axis=1) instead.  To get a de-fragmented frame, use `newframe = frame.copy()`\n",
            "  df[column_name] = series\n"
          ]
        }
      ],
      "source": [
        "test_spark_df = spark_pipeline(matches_test_spark_df, train = False)"
      ]
    },
    {
      "cell_type": "code",
      "execution_count": null,
      "metadata": {
        "id": "VR9taPEOXxhX"
      },
      "outputs": [],
      "source": [
        "test_spark_df.to_pickle(\"test.pkl\")"
      ]
    },
    {
      "cell_type": "code",
      "execution_count": null,
      "metadata": {
        "colab": {
          "base_uri": "https://localhost:8080/",
          "height": 488
        },
        "id": "SLK6MWaCb42q",
        "outputId": "a136d59b-b0e6-4d5f-c4f6-582c2e236a22"
      },
      "outputs": [
        {
          "data": {
            "text/html": [
              "\n",
              "  <div id=\"df-b33df301-9335-45f7-9bb7-380b8b29a526\">\n",
              "    <div class=\"colab-df-container\">\n",
              "      <div>\n",
              "<style scoped>\n",
              "    .dataframe tbody tr th:only-of-type {\n",
              "        vertical-align: middle;\n",
              "    }\n",
              "\n",
              "    .dataframe tbody tr th {\n",
              "        vertical-align: top;\n",
              "    }\n",
              "\n",
              "    .dataframe thead th {\n",
              "        text-align: right;\n",
              "    }\n",
              "</style>\n",
              "<table border=\"1\" class=\"dataframe\">\n",
              "  <thead>\n",
              "    <tr style=\"text-align: right;\">\n",
              "      <th></th>\n",
              "      <th>is_cup_0</th>\n",
              "      <th>is_cup_1</th>\n",
              "      <th>home_team_history_is_play_home_1_0</th>\n",
              "      <th>home_team_history_is_play_home_1_1</th>\n",
              "      <th>home_team_history_is_play_home_2_0</th>\n",
              "      <th>home_team_history_is_play_home_2_1</th>\n",
              "      <th>home_team_history_is_play_home_3_0</th>\n",
              "      <th>home_team_history_is_play_home_3_1</th>\n",
              "      <th>home_team_history_is_play_home_4_0</th>\n",
              "      <th>home_team_history_is_play_home_4_1</th>\n",
              "      <th>...</th>\n",
              "      <th>home_team_history_goal_difference_10</th>\n",
              "      <th>away_team_history_goal_difference_10</th>\n",
              "      <th>home_team_history_rating_difference_10</th>\n",
              "      <th>away_team_history_rating_difference_10</th>\n",
              "      <th>home_team_history_date_difference_10</th>\n",
              "      <th>away_team_history_date_difference_10</th>\n",
              "      <th>home_team_history_goal_avg</th>\n",
              "      <th>away_team_history_goal_avg</th>\n",
              "      <th>home_team_history_rating_avg</th>\n",
              "      <th>away_team_history_rating_avg</th>\n",
              "    </tr>\n",
              "  </thead>\n",
              "  <tbody>\n",
              "    <tr>\n",
              "      <th>1</th>\n",
              "      <td>0</td>\n",
              "      <td>1</td>\n",
              "      <td>0</td>\n",
              "      <td>1</td>\n",
              "      <td>0</td>\n",
              "      <td>1</td>\n",
              "      <td>0</td>\n",
              "      <td>1</td>\n",
              "      <td>0</td>\n",
              "      <td>1</td>\n",
              "      <td>...</td>\n",
              "      <td>0.5</td>\n",
              "      <td>0.3</td>\n",
              "      <td>0.425055</td>\n",
              "      <td>0.477955</td>\n",
              "      <td>70.0</td>\n",
              "      <td>69.0</td>\n",
              "      <td>0.375</td>\n",
              "      <td>0.500</td>\n",
              "      <td>0.427344</td>\n",
              "      <td>0.520775</td>\n",
              "    </tr>\n",
              "    <tr>\n",
              "      <th>2</th>\n",
              "      <td>0</td>\n",
              "      <td>1</td>\n",
              "      <td>1</td>\n",
              "      <td>0</td>\n",
              "      <td>1</td>\n",
              "      <td>0</td>\n",
              "      <td>0</td>\n",
              "      <td>1</td>\n",
              "      <td>0</td>\n",
              "      <td>1</td>\n",
              "      <td>...</td>\n",
              "      <td>0.7</td>\n",
              "      <td>0.4</td>\n",
              "      <td>0.414903</td>\n",
              "      <td>0.486332</td>\n",
              "      <td>248.0</td>\n",
              "      <td>169.0</td>\n",
              "      <td>0.375</td>\n",
              "      <td>0.375</td>\n",
              "      <td>0.366335</td>\n",
              "      <td>0.412096</td>\n",
              "    </tr>\n",
              "    <tr>\n",
              "      <th>3</th>\n",
              "      <td>0</td>\n",
              "      <td>1</td>\n",
              "      <td>0</td>\n",
              "      <td>1</td>\n",
              "      <td>1</td>\n",
              "      <td>0</td>\n",
              "      <td>0</td>\n",
              "      <td>1</td>\n",
              "      <td>0</td>\n",
              "      <td>1</td>\n",
              "      <td>...</td>\n",
              "      <td>0.6</td>\n",
              "      <td>0.3</td>\n",
              "      <td>0.292652</td>\n",
              "      <td>0.479462</td>\n",
              "      <td>249.0</td>\n",
              "      <td>139.0</td>\n",
              "      <td>0.375</td>\n",
              "      <td>0.500</td>\n",
              "      <td>0.370348</td>\n",
              "      <td>0.655452</td>\n",
              "    </tr>\n",
              "    <tr>\n",
              "      <th>4</th>\n",
              "      <td>0</td>\n",
              "      <td>1</td>\n",
              "      <td>0</td>\n",
              "      <td>1</td>\n",
              "      <td>1</td>\n",
              "      <td>0</td>\n",
              "      <td>0</td>\n",
              "      <td>1</td>\n",
              "      <td>0</td>\n",
              "      <td>1</td>\n",
              "      <td>...</td>\n",
              "      <td>0.5</td>\n",
              "      <td>0.4</td>\n",
              "      <td>0.482588</td>\n",
              "      <td>0.356314</td>\n",
              "      <td>235.0</td>\n",
              "      <td>239.0</td>\n",
              "      <td>0.500</td>\n",
              "      <td>0.500</td>\n",
              "      <td>0.448991</td>\n",
              "      <td>0.363205</td>\n",
              "    </tr>\n",
              "    <tr>\n",
              "      <th>5</th>\n",
              "      <td>0</td>\n",
              "      <td>1</td>\n",
              "      <td>0</td>\n",
              "      <td>1</td>\n",
              "      <td>1</td>\n",
              "      <td>0</td>\n",
              "      <td>0</td>\n",
              "      <td>1</td>\n",
              "      <td>0</td>\n",
              "      <td>1</td>\n",
              "      <td>...</td>\n",
              "      <td>0.3</td>\n",
              "      <td>0.5</td>\n",
              "      <td>0.530251</td>\n",
              "      <td>0.524249</td>\n",
              "      <td>146.0</td>\n",
              "      <td>154.0</td>\n",
              "      <td>0.375</td>\n",
              "      <td>0.500</td>\n",
              "      <td>0.487157</td>\n",
              "      <td>0.415115</td>\n",
              "    </tr>\n",
              "    <tr>\n",
              "      <th>...</th>\n",
              "      <td>...</td>\n",
              "      <td>...</td>\n",
              "      <td>...</td>\n",
              "      <td>...</td>\n",
              "      <td>...</td>\n",
              "      <td>...</td>\n",
              "      <td>...</td>\n",
              "      <td>...</td>\n",
              "      <td>...</td>\n",
              "      <td>...</td>\n",
              "      <td>...</td>\n",
              "      <td>...</td>\n",
              "      <td>...</td>\n",
              "      <td>...</td>\n",
              "      <td>...</td>\n",
              "      <td>...</td>\n",
              "      <td>...</td>\n",
              "      <td>...</td>\n",
              "      <td>...</td>\n",
              "      <td>...</td>\n",
              "      <td>...</td>\n",
              "    </tr>\n",
              "    <tr>\n",
              "      <th>72706</th>\n",
              "      <td>0</td>\n",
              "      <td>1</td>\n",
              "      <td>1</td>\n",
              "      <td>0</td>\n",
              "      <td>1</td>\n",
              "      <td>0</td>\n",
              "      <td>0</td>\n",
              "      <td>1</td>\n",
              "      <td>0</td>\n",
              "      <td>1</td>\n",
              "      <td>...</td>\n",
              "      <td>0.3</td>\n",
              "      <td>0.7</td>\n",
              "      <td>0.403282</td>\n",
              "      <td>0.597483</td>\n",
              "      <td>68.0</td>\n",
              "      <td>68.0</td>\n",
              "      <td>0.500</td>\n",
              "      <td>0.625</td>\n",
              "      <td>0.565661</td>\n",
              "      <td>0.634179</td>\n",
              "    </tr>\n",
              "    <tr>\n",
              "      <th>72707</th>\n",
              "      <td>0</td>\n",
              "      <td>1</td>\n",
              "      <td>0</td>\n",
              "      <td>1</td>\n",
              "      <td>0</td>\n",
              "      <td>1</td>\n",
              "      <td>1</td>\n",
              "      <td>0</td>\n",
              "      <td>1</td>\n",
              "      <td>0</td>\n",
              "      <td>...</td>\n",
              "      <td>0.4</td>\n",
              "      <td>0.4</td>\n",
              "      <td>0.380944</td>\n",
              "      <td>0.643581</td>\n",
              "      <td>58.0</td>\n",
              "      <td>64.0</td>\n",
              "      <td>0.625</td>\n",
              "      <td>0.500</td>\n",
              "      <td>0.612283</td>\n",
              "      <td>0.499575</td>\n",
              "    </tr>\n",
              "    <tr>\n",
              "      <th>72708</th>\n",
              "      <td>0</td>\n",
              "      <td>1</td>\n",
              "      <td>1</td>\n",
              "      <td>0</td>\n",
              "      <td>0</td>\n",
              "      <td>1</td>\n",
              "      <td>1</td>\n",
              "      <td>0</td>\n",
              "      <td>0</td>\n",
              "      <td>1</td>\n",
              "      <td>...</td>\n",
              "      <td>0.5</td>\n",
              "      <td>0.5</td>\n",
              "      <td>0.349382</td>\n",
              "      <td>0.828419</td>\n",
              "      <td>629.0</td>\n",
              "      <td>172.0</td>\n",
              "      <td>0.375</td>\n",
              "      <td>0.625</td>\n",
              "      <td>0.405156</td>\n",
              "      <td>0.587544</td>\n",
              "    </tr>\n",
              "    <tr>\n",
              "      <th>72709</th>\n",
              "      <td>0</td>\n",
              "      <td>1</td>\n",
              "      <td>0</td>\n",
              "      <td>1</td>\n",
              "      <td>1</td>\n",
              "      <td>0</td>\n",
              "      <td>1</td>\n",
              "      <td>0</td>\n",
              "      <td>1</td>\n",
              "      <td>0</td>\n",
              "      <td>...</td>\n",
              "      <td>0.6</td>\n",
              "      <td>0.4</td>\n",
              "      <td>0.579706</td>\n",
              "      <td>0.495976</td>\n",
              "      <td>31.0</td>\n",
              "      <td>41.0</td>\n",
              "      <td>0.625</td>\n",
              "      <td>0.625</td>\n",
              "      <td>0.703155</td>\n",
              "      <td>0.503874</td>\n",
              "    </tr>\n",
              "    <tr>\n",
              "      <th>72710</th>\n",
              "      <td>0</td>\n",
              "      <td>1</td>\n",
              "      <td>0</td>\n",
              "      <td>1</td>\n",
              "      <td>0</td>\n",
              "      <td>1</td>\n",
              "      <td>1</td>\n",
              "      <td>0</td>\n",
              "      <td>0</td>\n",
              "      <td>1</td>\n",
              "      <td>...</td>\n",
              "      <td>0.5</td>\n",
              "      <td>0.5</td>\n",
              "      <td>0.610061</td>\n",
              "      <td>0.484971</td>\n",
              "      <td>55.0</td>\n",
              "      <td>57.0</td>\n",
              "      <td>0.500</td>\n",
              "      <td>0.500</td>\n",
              "      <td>0.553547</td>\n",
              "      <td>0.618836</td>\n",
              "    </tr>\n",
              "  </tbody>\n",
              "</table>\n",
              "<p>72710 rows × 226 columns</p>\n",
              "</div>\n",
              "      <button class=\"colab-df-convert\" onclick=\"convertToInteractive('df-b33df301-9335-45f7-9bb7-380b8b29a526')\"\n",
              "              title=\"Convert this dataframe to an interactive table.\"\n",
              "              style=\"display:none;\">\n",
              "        \n",
              "  <svg xmlns=\"http://www.w3.org/2000/svg\" height=\"24px\"viewBox=\"0 0 24 24\"\n",
              "       width=\"24px\">\n",
              "    <path d=\"M0 0h24v24H0V0z\" fill=\"none\"/>\n",
              "    <path d=\"M18.56 5.44l.94 2.06.94-2.06 2.06-.94-2.06-.94-.94-2.06-.94 2.06-2.06.94zm-11 1L8.5 8.5l.94-2.06 2.06-.94-2.06-.94L8.5 2.5l-.94 2.06-2.06.94zm10 10l.94 2.06.94-2.06 2.06-.94-2.06-.94-.94-2.06-.94 2.06-2.06.94z\"/><path d=\"M17.41 7.96l-1.37-1.37c-.4-.4-.92-.59-1.43-.59-.52 0-1.04.2-1.43.59L10.3 9.45l-7.72 7.72c-.78.78-.78 2.05 0 2.83L4 21.41c.39.39.9.59 1.41.59.51 0 1.02-.2 1.41-.59l7.78-7.78 2.81-2.81c.8-.78.8-2.07 0-2.86zM5.41 20L4 18.59l7.72-7.72 1.47 1.35L5.41 20z\"/>\n",
              "  </svg>\n",
              "      </button>\n",
              "      \n",
              "  <style>\n",
              "    .colab-df-container {\n",
              "      display:flex;\n",
              "      flex-wrap:wrap;\n",
              "      gap: 12px;\n",
              "    }\n",
              "\n",
              "    .colab-df-convert {\n",
              "      background-color: #E8F0FE;\n",
              "      border: none;\n",
              "      border-radius: 50%;\n",
              "      cursor: pointer;\n",
              "      display: none;\n",
              "      fill: #1967D2;\n",
              "      height: 32px;\n",
              "      padding: 0 0 0 0;\n",
              "      width: 32px;\n",
              "    }\n",
              "\n",
              "    .colab-df-convert:hover {\n",
              "      background-color: #E2EBFA;\n",
              "      box-shadow: 0px 1px 2px rgba(60, 64, 67, 0.3), 0px 1px 3px 1px rgba(60, 64, 67, 0.15);\n",
              "      fill: #174EA6;\n",
              "    }\n",
              "\n",
              "    [theme=dark] .colab-df-convert {\n",
              "      background-color: #3B4455;\n",
              "      fill: #D2E3FC;\n",
              "    }\n",
              "\n",
              "    [theme=dark] .colab-df-convert:hover {\n",
              "      background-color: #434B5C;\n",
              "      box-shadow: 0px 1px 3px 1px rgba(0, 0, 0, 0.15);\n",
              "      filter: drop-shadow(0px 1px 2px rgba(0, 0, 0, 0.3));\n",
              "      fill: #FFFFFF;\n",
              "    }\n",
              "  </style>\n",
              "\n",
              "      <script>\n",
              "        const buttonEl =\n",
              "          document.querySelector('#df-b33df301-9335-45f7-9bb7-380b8b29a526 button.colab-df-convert');\n",
              "        buttonEl.style.display =\n",
              "          google.colab.kernel.accessAllowed ? 'block' : 'none';\n",
              "\n",
              "        async function convertToInteractive(key) {\n",
              "          const element = document.querySelector('#df-b33df301-9335-45f7-9bb7-380b8b29a526');\n",
              "          const dataTable =\n",
              "            await google.colab.kernel.invokeFunction('convertToInteractive',\n",
              "                                                     [key], {});\n",
              "          if (!dataTable) return;\n",
              "\n",
              "          const docLinkHtml = 'Like what you see? Visit the ' +\n",
              "            '<a target=\"_blank\" href=https://colab.research.google.com/notebooks/data_table.ipynb>data table notebook</a>'\n",
              "            + ' to learn more about interactive tables.';\n",
              "          element.innerHTML = '';\n",
              "          dataTable['output_type'] = 'display_data';\n",
              "          await google.colab.output.renderOutput(dataTable, element);\n",
              "          const docLink = document.createElement('div');\n",
              "          docLink.innerHTML = docLinkHtml;\n",
              "          element.appendChild(docLink);\n",
              "        }\n",
              "      </script>\n",
              "    </div>\n",
              "  </div>\n",
              "  "
            ],
            "text/plain": [
              "       is_cup_0  is_cup_1  home_team_history_is_play_home_1_0  \\\n",
              "1             0         1                                   0   \n",
              "2             0         1                                   1   \n",
              "3             0         1                                   0   \n",
              "4             0         1                                   0   \n",
              "5             0         1                                   0   \n",
              "...         ...       ...                                 ...   \n",
              "72706         0         1                                   1   \n",
              "72707         0         1                                   0   \n",
              "72708         0         1                                   1   \n",
              "72709         0         1                                   0   \n",
              "72710         0         1                                   0   \n",
              "\n",
              "       home_team_history_is_play_home_1_1  home_team_history_is_play_home_2_0  \\\n",
              "1                                       1                                   0   \n",
              "2                                       0                                   1   \n",
              "3                                       1                                   1   \n",
              "4                                       1                                   1   \n",
              "5                                       1                                   1   \n",
              "...                                   ...                                 ...   \n",
              "72706                                   0                                   1   \n",
              "72707                                   1                                   0   \n",
              "72708                                   0                                   0   \n",
              "72709                                   1                                   1   \n",
              "72710                                   1                                   0   \n",
              "\n",
              "       home_team_history_is_play_home_2_1  home_team_history_is_play_home_3_0  \\\n",
              "1                                       1                                   0   \n",
              "2                                       0                                   0   \n",
              "3                                       0                                   0   \n",
              "4                                       0                                   0   \n",
              "5                                       0                                   0   \n",
              "...                                   ...                                 ...   \n",
              "72706                                   0                                   0   \n",
              "72707                                   1                                   1   \n",
              "72708                                   1                                   1   \n",
              "72709                                   0                                   1   \n",
              "72710                                   1                                   1   \n",
              "\n",
              "       home_team_history_is_play_home_3_1  home_team_history_is_play_home_4_0  \\\n",
              "1                                       1                                   0   \n",
              "2                                       1                                   0   \n",
              "3                                       1                                   0   \n",
              "4                                       1                                   0   \n",
              "5                                       1                                   0   \n",
              "...                                   ...                                 ...   \n",
              "72706                                   1                                   0   \n",
              "72707                                   0                                   1   \n",
              "72708                                   0                                   0   \n",
              "72709                                   0                                   1   \n",
              "72710                                   0                                   0   \n",
              "\n",
              "       home_team_history_is_play_home_4_1  ...  \\\n",
              "1                                       1  ...   \n",
              "2                                       1  ...   \n",
              "3                                       1  ...   \n",
              "4                                       1  ...   \n",
              "5                                       1  ...   \n",
              "...                                   ...  ...   \n",
              "72706                                   1  ...   \n",
              "72707                                   0  ...   \n",
              "72708                                   1  ...   \n",
              "72709                                   0  ...   \n",
              "72710                                   1  ...   \n",
              "\n",
              "       home_team_history_goal_difference_10  \\\n",
              "1                                       0.5   \n",
              "2                                       0.7   \n",
              "3                                       0.6   \n",
              "4                                       0.5   \n",
              "5                                       0.3   \n",
              "...                                     ...   \n",
              "72706                                   0.3   \n",
              "72707                                   0.4   \n",
              "72708                                   0.5   \n",
              "72709                                   0.6   \n",
              "72710                                   0.5   \n",
              "\n",
              "       away_team_history_goal_difference_10  \\\n",
              "1                                       0.3   \n",
              "2                                       0.4   \n",
              "3                                       0.3   \n",
              "4                                       0.4   \n",
              "5                                       0.5   \n",
              "...                                     ...   \n",
              "72706                                   0.7   \n",
              "72707                                   0.4   \n",
              "72708                                   0.5   \n",
              "72709                                   0.4   \n",
              "72710                                   0.5   \n",
              "\n",
              "       home_team_history_rating_difference_10  \\\n",
              "1                                    0.425055   \n",
              "2                                    0.414903   \n",
              "3                                    0.292652   \n",
              "4                                    0.482588   \n",
              "5                                    0.530251   \n",
              "...                                       ...   \n",
              "72706                                0.403282   \n",
              "72707                                0.380944   \n",
              "72708                                0.349382   \n",
              "72709                                0.579706   \n",
              "72710                                0.610061   \n",
              "\n",
              "       away_team_history_rating_difference_10  \\\n",
              "1                                    0.477955   \n",
              "2                                    0.486332   \n",
              "3                                    0.479462   \n",
              "4                                    0.356314   \n",
              "5                                    0.524249   \n",
              "...                                       ...   \n",
              "72706                                0.597483   \n",
              "72707                                0.643581   \n",
              "72708                                0.828419   \n",
              "72709                                0.495976   \n",
              "72710                                0.484971   \n",
              "\n",
              "       home_team_history_date_difference_10  \\\n",
              "1                                      70.0   \n",
              "2                                     248.0   \n",
              "3                                     249.0   \n",
              "4                                     235.0   \n",
              "5                                     146.0   \n",
              "...                                     ...   \n",
              "72706                                  68.0   \n",
              "72707                                  58.0   \n",
              "72708                                 629.0   \n",
              "72709                                  31.0   \n",
              "72710                                  55.0   \n",
              "\n",
              "       away_team_history_date_difference_10  home_team_history_goal_avg  \\\n",
              "1                                      69.0                       0.375   \n",
              "2                                     169.0                       0.375   \n",
              "3                                     139.0                       0.375   \n",
              "4                                     239.0                       0.500   \n",
              "5                                     154.0                       0.375   \n",
              "...                                     ...                         ...   \n",
              "72706                                  68.0                       0.500   \n",
              "72707                                  64.0                       0.625   \n",
              "72708                                 172.0                       0.375   \n",
              "72709                                  41.0                       0.625   \n",
              "72710                                  57.0                       0.500   \n",
              "\n",
              "       away_team_history_goal_avg  home_team_history_rating_avg  \\\n",
              "1                           0.500                      0.427344   \n",
              "2                           0.375                      0.366335   \n",
              "3                           0.500                      0.370348   \n",
              "4                           0.500                      0.448991   \n",
              "5                           0.500                      0.487157   \n",
              "...                           ...                           ...   \n",
              "72706                       0.625                      0.565661   \n",
              "72707                       0.500                      0.612283   \n",
              "72708                       0.625                      0.405156   \n",
              "72709                       0.625                      0.703155   \n",
              "72710                       0.500                      0.553547   \n",
              "\n",
              "       away_team_history_rating_avg  \n",
              "1                          0.520775  \n",
              "2                          0.412096  \n",
              "3                          0.655452  \n",
              "4                          0.363205  \n",
              "5                          0.415115  \n",
              "...                             ...  \n",
              "72706                      0.634179  \n",
              "72707                      0.499575  \n",
              "72708                      0.587544  \n",
              "72709                      0.503874  \n",
              "72710                      0.618836  \n",
              "\n",
              "[72710 rows x 226 columns]"
            ]
          },
          "execution_count": 62,
          "metadata": {},
          "output_type": "execute_result"
        }
      ],
      "source": [
        "test_spark_df_final = test_spark_df.drop(['id'], axis = 1)\n",
        "test_spark_df_final"
      ]
    },
    {
      "cell_type": "markdown",
      "metadata": {
        "id": "9NZE99Tdrl6K"
      },
      "source": [
        "# Training"
      ]
    },
    {
      "cell_type": "code",
      "execution_count": null,
      "metadata": {
        "id": "ZX5kvFJG2KEC"
      },
      "outputs": [],
      "source": [
        "y_spark = train_spark_df[['target']]\n",
        "x_spark = train_spark_df.drop(['id','target'],axis=1)"
      ]
    },
    {
      "cell_type": "markdown",
      "metadata": {
        "id": "kJ_PEVuiryMJ"
      },
      "source": [
        "## Splitting Train & Validation"
      ]
    },
    {
      "cell_type": "code",
      "execution_count": null,
      "metadata": {
        "id": "fis__qjBrncG"
      },
      "outputs": [],
      "source": [
        "np.random.seed(0)\n",
        "X_train, X_test, y_train, y_test = train_test_split(x_spark, y_spark, test_size = 0.1, random_state = 150)"
      ]
    },
    {
      "cell_type": "markdown",
      "metadata": {
        "id": "dFAY_kFi8uyb"
      },
      "source": [
        "## Model"
      ]
    },
    {
      "cell_type": "code",
      "execution_count": null,
      "metadata": {
        "id": "OUPhNFAT8vw5"
      },
      "outputs": [],
      "source": [
        "from sklearn.datasets import load_iris\n",
        "from sklearn.linear_model import LogisticRegression\n",
        "from sklearn import preprocessing\n",
        "from sklearn.pipeline import make_pipeline\n",
        "from sklearn.preprocessing import StandardScaler\n",
        "from sklearn.metrics import mean_squared_error, r2_score\n",
        "from sklearn.metrics import classification_report\n",
        "from sklearn.neighbors import KNeighborsClassifier\n",
        "from sklearn.svm import SVC, LinearSVC, NuSVC\n",
        "from sklearn.tree import DecisionTreeClassifier\n",
        "from sklearn.ensemble import RandomForestClassifier, AdaBoostClassifier, GradientBoostingClassifier\n",
        "from sklearn.naive_bayes import GaussianNB,MultinomialNB\n",
        "#!pip install catboost\n",
        "from catboost import CatBoostClassifier\n",
        "from sklearn.metrics import log_loss\n",
        "# clf = LogisticRegression(multi_class='multinomial', solver='lbfgs')\n",
        "# clf.fit(X_train, y_train.values.ravel())\n",
        "          # 0 -> Away\n",
        "         # 2 -> Home\n",
        "         # 1 -> Draw"
      ]
    },
    {
      "cell_type": "code",
      "execution_count": null,
      "metadata": {
        "id": "cc2355zgYg-o"
      },
      "outputs": [],
      "source": [
        "#pipe = make_pipeline(StandardScaler(), LogisticRegression(multi_class='multinomial', solver='lbfgs'))\n",
        "#pipe = make_pipeline(StandardScaler(), DecisionTreeClassifier())\n",
        "#pipe=KNeighborsClassifier(3) #0.39976563908418966\n",
        "#pipe=RandomForestClassifier() #0.4821525148729043\n",
        "#pipe=AdaBoostClassifier() #0.48954389760230754\n",
        "pipe=CatBoostClassifier() #0.49098611862267894\n",
        "#pipe=LogisticRegression(multi_class='multinomial', solver='lbfgs') #0.49531278168379306\n",
        "\n",
        "pipe.fit(X_train, y_train)\n"
      ]
    },
    {
      "cell_type": "code",
      "execution_count": null,
      "metadata": {
        "id": "z5PMuXdrbJpN"
      },
      "outputs": [],
      "source": [
        "score = pipe.score(X_train, y_train)\n",
        "print(\"Score:\", score)"
      ]
    },
    {
      "cell_type": "code",
      "execution_count": null,
      "metadata": {
        "colab": {
          "base_uri": "https://localhost:8080/"
        },
        "id": "uvL8aPXTaMnE",
        "outputId": "7394e8f8-fd72-43a4-8d9d-be263780a6d2"
      },
      "outputs": [
        {
          "name": "stdout",
          "output_type": "stream",
          "text": [
            "[0 1 2]\n",
            "[0 1 2]\n"
          ]
        }
      ],
      "source": [
        "yhat = pipe.predict(X_test)\n",
        "yhat_prob=pipe.predict_proba(X_test)\n",
        "print(np.unique(yhat))\n",
        "print(np.unique(y_test))"
      ]
    },
    {
      "cell_type": "code",
      "execution_count": null,
      "metadata": {
        "id": "TVlSuhHueszN"
      },
      "outputs": [],
      "source": [
        "#mean_squared_error(yhat, y_test)\n",
        "print(log_loss(y_test, yhat_prob))"
      ]
    },
    {
      "cell_type": "code",
      "execution_count": null,
      "metadata": {
        "colab": {
          "base_uri": "https://localhost:8080/"
        },
        "id": "OQsAd0T0gJB1",
        "outputId": "24097dc9-8463-41c6-a47c-f488ccb48cd4"
      },
      "outputs": [
        {
          "name": "stdout",
          "output_type": "stream",
          "text": [
            "              precision    recall  f1-score   support\n",
            "\n",
            "           0       0.46      0.46      0.46      3484\n",
            "           1       0.38      0.01      0.03      2779\n",
            "           2       0.51      0.80      0.62      4831\n",
            "\n",
            "    accuracy                           0.50     11094\n",
            "   macro avg       0.45      0.42      0.37     11094\n",
            "weighted avg       0.46      0.50      0.42     11094\n",
            "\n"
          ]
        }
      ],
      "source": [
        "print(classification_report(y_test, yhat))\n"
      ]
    },
    {
      "cell_type": "code",
      "execution_count": null,
      "metadata": {
        "colab": {
          "base_uri": "https://localhost:8080/"
        },
        "id": "5keLuZLEVlVO",
        "outputId": "8755bb49-0532-4a60-896f-5ff65f34dd3c"
      },
      "outputs": [
        {
          "data": {
            "text/plain": [
              "array([[0.63589437, 0.18741244, 0.1766932 ],\n",
              "       [0.20537493, 0.24554037, 0.5490847 ],\n",
              "       [0.28812593, 0.34574553, 0.36612855],\n",
              "       ...,\n",
              "       [0.18028123, 0.20372789, 0.61599088],\n",
              "       [0.17314631, 0.22804022, 0.59881347],\n",
              "       [0.40378542, 0.28695238, 0.3092622 ]])"
            ]
          },
          "execution_count": 89,
          "metadata": {},
          "output_type": "execute_result"
        }
      ],
      "source": [
        "pipe.predict_proba(X_test)"
      ]
    },
    {
      "cell_type": "code",
      "execution_count": null,
      "metadata": {
        "id": "633bjpKGbI-s"
      },
      "outputs": [],
      "source": [
        ""
      ]
    },
    {
      "cell_type": "markdown",
      "metadata": {
        "id": "DAsuAqm2bRnW"
      },
      "source": [
        "# Predict"
      ]
    },
    {
      "cell_type": "code",
      "execution_count": null,
      "metadata": {
        "id": "mlAYSovobQj0"
      },
      "outputs": [],
      "source": [
        "pred_arr = pipe.predict_proba(test_spark_df_final)"
      ]
    },
    {
      "cell_type": "code",
      "execution_count": null,
      "metadata": {
        "colab": {
          "base_uri": "https://localhost:8080/"
        },
        "id": "awOy_oX8gg2c",
        "outputId": "d9ed35ea-b45b-445e-872c-8226536fc81c"
      },
      "outputs": [
        {
          "data": {
            "text/plain": [
              "array([[0.3365092 , 0.28523346, 0.37825734],\n",
              "       [0.32790716, 0.33867813, 0.33341472],\n",
              "       [0.29361436, 0.34623758, 0.36014806],\n",
              "       ...,\n",
              "       [0.47985072, 0.30923155, 0.21091772],\n",
              "       [0.23362975, 0.29336842, 0.47300183],\n",
              "       [0.3039839 , 0.32408694, 0.37192915]])"
            ]
          },
          "execution_count": 91,
          "metadata": {},
          "output_type": "execute_result"
        }
      ],
      "source": [
        "pred_arr"
      ]
    },
    {
      "cell_type": "code",
      "execution_count": null,
      "metadata": {
        "colab": {
          "base_uri": "https://localhost:8080/"
        },
        "id": "huk5hkYDicNh",
        "outputId": "991c88c0-e2f5-41bf-96fe-0c687b152d64"
      },
      "outputs": [
        {
          "data": {
            "text/plain": [
              "array([0, 1, 2])"
            ]
          },
          "execution_count": 92,
          "metadata": {},
          "output_type": "execute_result"
        }
      ],
      "source": [
        "pipe.classes_"
      ]
    },
    {
      "cell_type": "code",
      "execution_count": null,
      "metadata": {
        "id": "vgCHOaKxgvet"
      },
      "outputs": [],
      "source": [
        "final_df = pd.DataFrame({'id': test_spark_df['id']})"
      ]
    },
    {
      "cell_type": "code",
      "execution_count": null,
      "metadata": {
        "id": "0m7ozY2Ag4k1"
      },
      "outputs": [],
      "source": [
        "final_df['home'] = pred_arr[:,2]"
      ]
    },
    {
      "cell_type": "code",
      "execution_count": null,
      "metadata": {
        "id": "CbJhT-l9hJ37"
      },
      "outputs": [],
      "source": [
        "final_df['draw'] = pred_arr[:,1]"
      ]
    },
    {
      "cell_type": "code",
      "execution_count": null,
      "metadata": {
        "id": "wcrIJJG_hLUN"
      },
      "outputs": [],
      "source": [
        "final_df['away'] = pred_arr[:,0]"
      ]
    },
    {
      "cell_type": "code",
      "execution_count": null,
      "metadata": {
        "colab": {
          "base_uri": "https://localhost:8080/",
          "height": 424
        },
        "id": "aH9kvYaTg2SL",
        "outputId": "00f16196-f809-44ec-d302-8a9779fdaa75"
      },
      "outputs": [
        {
          "data": {
            "text/html": [
              "\n",
              "  <div id=\"df-df2aa38f-08db-45e3-bc62-bdcffa42b867\">\n",
              "    <div class=\"colab-df-container\">\n",
              "      <div>\n",
              "<style scoped>\n",
              "    .dataframe tbody tr th:only-of-type {\n",
              "        vertical-align: middle;\n",
              "    }\n",
              "\n",
              "    .dataframe tbody tr th {\n",
              "        vertical-align: top;\n",
              "    }\n",
              "\n",
              "    .dataframe thead th {\n",
              "        text-align: right;\n",
              "    }\n",
              "</style>\n",
              "<table border=\"1\" class=\"dataframe\">\n",
              "  <thead>\n",
              "    <tr style=\"text-align: right;\">\n",
              "      <th></th>\n",
              "      <th>id</th>\n",
              "      <th>home</th>\n",
              "      <th>draw</th>\n",
              "      <th>away</th>\n",
              "    </tr>\n",
              "  </thead>\n",
              "  <tbody>\n",
              "    <tr>\n",
              "      <th>1</th>\n",
              "      <td>17695487</td>\n",
              "      <td>0.333243</td>\n",
              "      <td>0.333298</td>\n",
              "      <td>0.333459</td>\n",
              "    </tr>\n",
              "    <tr>\n",
              "      <th>2</th>\n",
              "      <td>17715496</td>\n",
              "      <td>0.333618</td>\n",
              "      <td>0.332380</td>\n",
              "      <td>0.334002</td>\n",
              "    </tr>\n",
              "    <tr>\n",
              "      <th>3</th>\n",
              "      <td>17715493</td>\n",
              "      <td>0.330481</td>\n",
              "      <td>0.333083</td>\n",
              "      <td>0.336436</td>\n",
              "    </tr>\n",
              "    <tr>\n",
              "      <th>4</th>\n",
              "      <td>17715492</td>\n",
              "      <td>0.335130</td>\n",
              "      <td>0.332713</td>\n",
              "      <td>0.332156</td>\n",
              "    </tr>\n",
              "    <tr>\n",
              "      <th>5</th>\n",
              "      <td>17715490</td>\n",
              "      <td>0.333861</td>\n",
              "      <td>0.332664</td>\n",
              "      <td>0.333475</td>\n",
              "    </tr>\n",
              "    <tr>\n",
              "      <th>...</th>\n",
              "      <td>...</td>\n",
              "      <td>...</td>\n",
              "      <td>...</td>\n",
              "      <td>...</td>\n",
              "    </tr>\n",
              "    <tr>\n",
              "      <th>72706</th>\n",
              "      <td>18450246</td>\n",
              "      <td>0.334089</td>\n",
              "      <td>0.332803</td>\n",
              "      <td>0.333108</td>\n",
              "    </tr>\n",
              "    <tr>\n",
              "      <th>72707</th>\n",
              "      <td>18164889</td>\n",
              "      <td>0.337977</td>\n",
              "      <td>0.332926</td>\n",
              "      <td>0.329097</td>\n",
              "    </tr>\n",
              "    <tr>\n",
              "      <th>72708</th>\n",
              "      <td>18449018</td>\n",
              "      <td>0.329948</td>\n",
              "      <td>0.332447</td>\n",
              "      <td>0.337605</td>\n",
              "    </tr>\n",
              "    <tr>\n",
              "      <th>72709</th>\n",
              "      <td>17958831</td>\n",
              "      <td>0.338636</td>\n",
              "      <td>0.332204</td>\n",
              "      <td>0.329159</td>\n",
              "    </tr>\n",
              "    <tr>\n",
              "      <th>72710</th>\n",
              "      <td>18441629</td>\n",
              "      <td>0.334259</td>\n",
              "      <td>0.333302</td>\n",
              "      <td>0.332439</td>\n",
              "    </tr>\n",
              "  </tbody>\n",
              "</table>\n",
              "<p>72710 rows × 4 columns</p>\n",
              "</div>\n",
              "      <button class=\"colab-df-convert\" onclick=\"convertToInteractive('df-df2aa38f-08db-45e3-bc62-bdcffa42b867')\"\n",
              "              title=\"Convert this dataframe to an interactive table.\"\n",
              "              style=\"display:none;\">\n",
              "        \n",
              "  <svg xmlns=\"http://www.w3.org/2000/svg\" height=\"24px\"viewBox=\"0 0 24 24\"\n",
              "       width=\"24px\">\n",
              "    <path d=\"M0 0h24v24H0V0z\" fill=\"none\"/>\n",
              "    <path d=\"M18.56 5.44l.94 2.06.94-2.06 2.06-.94-2.06-.94-.94-2.06-.94 2.06-2.06.94zm-11 1L8.5 8.5l.94-2.06 2.06-.94-2.06-.94L8.5 2.5l-.94 2.06-2.06.94zm10 10l.94 2.06.94-2.06 2.06-.94-2.06-.94-.94-2.06-.94 2.06-2.06.94z\"/><path d=\"M17.41 7.96l-1.37-1.37c-.4-.4-.92-.59-1.43-.59-.52 0-1.04.2-1.43.59L10.3 9.45l-7.72 7.72c-.78.78-.78 2.05 0 2.83L4 21.41c.39.39.9.59 1.41.59.51 0 1.02-.2 1.41-.59l7.78-7.78 2.81-2.81c.8-.78.8-2.07 0-2.86zM5.41 20L4 18.59l7.72-7.72 1.47 1.35L5.41 20z\"/>\n",
              "  </svg>\n",
              "      </button>\n",
              "      \n",
              "  <style>\n",
              "    .colab-df-container {\n",
              "      display:flex;\n",
              "      flex-wrap:wrap;\n",
              "      gap: 12px;\n",
              "    }\n",
              "\n",
              "    .colab-df-convert {\n",
              "      background-color: #E8F0FE;\n",
              "      border: none;\n",
              "      border-radius: 50%;\n",
              "      cursor: pointer;\n",
              "      display: none;\n",
              "      fill: #1967D2;\n",
              "      height: 32px;\n",
              "      padding: 0 0 0 0;\n",
              "      width: 32px;\n",
              "    }\n",
              "\n",
              "    .colab-df-convert:hover {\n",
              "      background-color: #E2EBFA;\n",
              "      box-shadow: 0px 1px 2px rgba(60, 64, 67, 0.3), 0px 1px 3px 1px rgba(60, 64, 67, 0.15);\n",
              "      fill: #174EA6;\n",
              "    }\n",
              "\n",
              "    [theme=dark] .colab-df-convert {\n",
              "      background-color: #3B4455;\n",
              "      fill: #D2E3FC;\n",
              "    }\n",
              "\n",
              "    [theme=dark] .colab-df-convert:hover {\n",
              "      background-color: #434B5C;\n",
              "      box-shadow: 0px 1px 3px 1px rgba(0, 0, 0, 0.15);\n",
              "      filter: drop-shadow(0px 1px 2px rgba(0, 0, 0, 0.3));\n",
              "      fill: #FFFFFF;\n",
              "    }\n",
              "  </style>\n",
              "\n",
              "      <script>\n",
              "        const buttonEl =\n",
              "          document.querySelector('#df-df2aa38f-08db-45e3-bc62-bdcffa42b867 button.colab-df-convert');\n",
              "        buttonEl.style.display =\n",
              "          google.colab.kernel.accessAllowed ? 'block' : 'none';\n",
              "\n",
              "        async function convertToInteractive(key) {\n",
              "          const element = document.querySelector('#df-df2aa38f-08db-45e3-bc62-bdcffa42b867');\n",
              "          const dataTable =\n",
              "            await google.colab.kernel.invokeFunction('convertToInteractive',\n",
              "                                                     [key], {});\n",
              "          if (!dataTable) return;\n",
              "\n",
              "          const docLinkHtml = 'Like what you see? Visit the ' +\n",
              "            '<a target=\"_blank\" href=https://colab.research.google.com/notebooks/data_table.ipynb>data table notebook</a>'\n",
              "            + ' to learn more about interactive tables.';\n",
              "          element.innerHTML = '';\n",
              "          dataTable['output_type'] = 'display_data';\n",
              "          await google.colab.output.renderOutput(dataTable, element);\n",
              "          const docLink = document.createElement('div');\n",
              "          docLink.innerHTML = docLinkHtml;\n",
              "          element.appendChild(docLink);\n",
              "        }\n",
              "      </script>\n",
              "    </div>\n",
              "  </div>\n",
              "  "
            ],
            "text/plain": [
              "             id      home      draw      away\n",
              "1      17695487  0.333243  0.333298  0.333459\n",
              "2      17715496  0.333618  0.332380  0.334002\n",
              "3      17715493  0.330481  0.333083  0.336436\n",
              "4      17715492  0.335130  0.332713  0.332156\n",
              "5      17715490  0.333861  0.332664  0.333475\n",
              "...         ...       ...       ...       ...\n",
              "72706  18450246  0.334089  0.332803  0.333108\n",
              "72707  18164889  0.337977  0.332926  0.329097\n",
              "72708  18449018  0.329948  0.332447  0.337605\n",
              "72709  17958831  0.338636  0.332204  0.329159\n",
              "72710  18441629  0.334259  0.333302  0.332439\n",
              "\n",
              "[72710 rows x 4 columns]"
            ]
          },
          "execution_count": 129,
          "metadata": {},
          "output_type": "execute_result"
        }
      ],
      "source": [
        "final_df"
      ]
    },
    {
      "cell_type": "code",
      "execution_count": null,
      "metadata": {
        "id": "MSP6W6TnkYtU"
      },
      "outputs": [],
      "source": [
        "final_df.set_index('id', inplace=True)"
      ]
    },
    {
      "cell_type": "code",
      "execution_count": null,
      "metadata": {
        "id": "Z0vOgeXSitxV"
      },
      "outputs": [],
      "source": [
        "final_df.to_csv('catboost.csv')"
      ]
    },
    {
      "cell_type": "markdown",
      "metadata": {
        "id": "PmCSIAc9TzM-"
      },
      "source": [
        "# Save Weights"
      ]
    },
    {
      "cell_type": "code",
      "execution_count": null,
      "metadata": {
        "colab": {
          "base_uri": "https://localhost:8080/"
        },
        "id": "C_gFvEbxSNbN",
        "outputId": "df82c23e-4009-42b2-9bb7-98dd646635f9"
      },
      "outputs": [
        {
          "name": "stdout",
          "output_type": "stream",
          "text": [
            "Mounted at /content/gdrive\n"
          ]
        }
      ],
      "source": [
        "from google.colab import drive\n",
        "drive.mount('/content/gdrive')"
      ]
    },
    {
      "cell_type": "code",
      "execution_count": null,
      "metadata": {
        "id": "IM21Ep5rTYKk"
      },
      "outputs": [],
      "source": [
        "!cp -r \"/content/train.pkl\" '/content/gdrive/MyDrive/Big Data'\n",
        "!cp -r \"/content/test.pkl\" '/content/gdrive/MyDrive/Big Data'"
      ]
    },
    {
      "cell_type": "code",
      "execution_count": null,
      "metadata": {
        "id": "HsbksaKkkDR3"
      },
      "outputs": [],
      "source": [
        "!cp -r \"/content/sub_5th.csv\" '/content/gdrive/MyDrive/Big Data'"
      ]
    },
    {
      "cell_type": "markdown",
      "metadata": {
        "id": "g-ragyZICxux"
      },
      "source": [
        "# Debug"
      ]
    },
    {
      "cell_type": "code",
      "execution_count": null,
      "metadata": {
        "id": "I9kG_ECZhxyq"
      },
      "outputs": [],
      "source": [
        "train_spark_df # 0 -> Away\n",
        "         # 2 -> Home\n",
        "         # 1 -> Draw"
      ]
    },
    {
      "cell_type": "code",
      "execution_count": null,
      "metadata": {
        "colab": {
          "base_uri": "https://localhost:8080/"
        },
        "id": "yHD74OOO8wJr",
        "outputId": "3658227d-2bc7-41d5-d9e8-44f146c26b2a"
      },
      "outputs": [
        {
          "name": "stdout",
          "output_type": "stream",
          "text": [
            "target\n",
            "home_team_coach_id_13\n",
            "away_team_coach_id_13\n",
            "home_team_history_coach_1_13\n",
            "home_team_history_coach_2_13\n",
            "home_team_history_coach_3_13\n",
            "home_team_history_coach_4_13\n",
            "home_team_history_coach_5_13\n",
            "home_team_history_coach_6_13\n",
            "home_team_history_coach_7_13\n",
            "away_team_history_coach_3_13\n",
            "away_team_history_coach_4_13\n",
            "away_team_history_coach_5_13\n",
            "away_team_history_coach_6_13\n",
            "away_team_history_coach_7_13\n"
          ]
        }
      ],
      "source": [
        "train_list = list()\n",
        "test_list = list()\n",
        "for col in train_spark_df.columns:\n",
        "  train_list.append(col)\n",
        "  #print(col)\n",
        "for col in test_spark_df.columns:\n",
        "  test_list.append(col)\n",
        "  #print(col)\n",
        "\n",
        "for item in train_list:\n",
        "  if item not in test_list:\n",
        "    print(item)\n",
        "# +3 match_date, home-away coach id\n",
        "# +10 history match date home\n",
        "# +10 history match date away \n",
        "# +20 home away history coach\n",
        "# -1 match date hour\n",
        "# -20 home history match date hour\n",
        "# +4 average\n",
        "# +2 date difference\n",
        "# -20 date difference\n",
        "# total +8"
      ]
    },
    {
      "cell_type": "code",
      "execution_count": null,
      "metadata": {
        "id": "avdQSG_nCbsH"
      },
      "outputs": [],
      "source": [
        "train_df.describe(include='all')"
      ]
    },
    {
      "cell_type": "code",
      "execution_count": null,
      "metadata": {
        "id": "S7H8phxrAIwf"
      },
      "outputs": [],
      "source": [
        "for column in train_df.columns:\n",
        "  print(column)"
      ]
    },
    {
      "cell_type": "code",
      "execution_count": null,
      "metadata": {
        "id": "bUTEYp-OMmPE"
      },
      "outputs": [],
      "source": [
        "train_df[['home_team_history_rating_1', 'home_team_history_opponent_rating_1', 'home_team_history_rating_difference_1']]"
      ]
    },
    {
      "cell_type": "code",
      "execution_count": null,
      "metadata": {
        "id": "XgODzfm2C2jR"
      },
      "outputs": [],
      "source": [
        "train_df[['home_team_history_goal_1', 'home_team_history_opponent_goal_1', 'home_team_history_goal_difference_1']]"
      ]
    },
    {
      "cell_type": "code",
      "execution_count": null,
      "metadata": {
        "id": "iz7nFFCKBYTM"
      },
      "outputs": [],
      "source": [
        "# train_df[['match_date', 'home_team_history_match_date_10', 'home_team_history_date_difference_10']]"
      ]
    },
    {
      "cell_type": "code",
      "execution_count": null,
      "metadata": {
        "id": "ydbx87uwCydi"
      },
      "outputs": [],
      "source": [
        ""
      ]
    }
  ],
  "metadata": {
    "colab": {
      "collapsed_sections": [
        "kJ_PEVuiryMJ",
        "dFAY_kFi8uyb"
      ],
      "name": "Match Probability v2 Spark.ipynb",
      "provenance": []
    },
    "kernelspec": {
      "display_name": "Python 3",
      "name": "python3"
    },
    "language_info": {
      "name": "python"
    }
  },
  "nbformat": 4,
  "nbformat_minor": 0
}